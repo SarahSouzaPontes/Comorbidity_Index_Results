{
  "nbformat": 4,
  "nbformat_minor": 0,
  "metadata": {
    "colab": {
      "provenance": [],
      "authorship_tag": "ABX9TyPl3A7aF8y6lHg6tPNdNMPz",
      "include_colab_link": true
    },
    "kernelspec": {
      "name": "python3",
      "display_name": "Python 3"
    },
    "language_info": {
      "name": "python"
    }
  },
  "cells": [
    {
      "cell_type": "markdown",
      "metadata": {
        "id": "view-in-github",
        "colab_type": "text"
      },
      "source": [
        "<a href=\"https://colab.research.google.com/github/SarahSouzaPontes/Comorbidity_Index_Results/blob/main/Comorbidity_Index_Results.ipynb\" target=\"_parent\"><img src=\"https://colab.research.google.com/assets/colab-badge.svg\" alt=\"Open In Colab\"/></a>"
      ]
    },
    {
      "cell_type": "code",
      "execution_count": null,
      "metadata": {
        "colab": {
          "base_uri": "https://localhost:8080/"
        },
        "id": "aaDNzdyWZSLF",
        "outputId": "41815cf4-ee26-4ffe-bab7-439f8a1281aa"
      },
      "outputs": [
        {
          "output_type": "stream",
          "name": "stdout",
          "text": [
            "Enter the number of patients: 1\n",
            "Enter the name of Patient 1: Mary\n",
            "Enter the patient's medical conditions (separated by commas): Malignant tumor,Lymphoma\n",
            "The Charlson Comorbidity Index for Mary is: 4\n",
            "Results saved to 'comorbidity_results.xlsx'\n"
          ]
        }
      ],
      "source": [
        "import openpyxl\n",
        "\n",
        "def calcular_indice_charlson(conditions):\n",
        "    scores = {\n",
        "        \"Myocardial infarction\": 1,\n",
        "        \"Congestive heart failure\": 1,\n",
        "        \"Peripheral vascular disease\": 1,\n",
        "        \"Cerebrovascular accident\": 1,\n",
        "        \"Dementia\": 1,\n",
        "        \"Chronic pulmonary disease\": 1,\n",
        "        \"Diabetes mellitus\": 1,\n",
        "        \"Diabetes with complications\": 2,\n",
        "        \"Renal disease\": 2,\n",
        "        \"Malignant tumor\": 2,\n",
        "        \"Leukemia\": 2,\n",
        "        \"Lymphoma\": 2,\n",
        "        \"Metastatic tumor\": 6\n",
        "    }\n",
        "\n",
        "    index = 0\n",
        "    for condition in conditions:\n",
        "        if condition in scores:\n",
        "            index += scores[condition]\n",
        "\n",
        "    return index\n",
        "\n",
        "# List of patients\n",
        "patients = []\n",
        "\n",
        "# Request patient data\n",
        "number_of_patients = int(input(\"Enter the number of patients: \"))\n",
        "for i in range(number_of_patients):\n",
        "    name = input(f\"Enter the name of Patient {i+1}: \")\n",
        "    conditions = input(f\"Enter the patient's medical conditions (separated by commas): \").split(',')\n",
        "    patients.append({\"name\": name, \"conditions\": conditions})\n",
        "\n",
        "# Calculate Charlson Comorbidity Index for each patient\n",
        "results = []\n",
        "for patient in patients:\n",
        "    index_patient = calcular_indice_charlson(patient[\"conditions\"])\n",
        "    results.append({\"name\": patient[\"name\"], \"index\": index_patient})\n",
        "    print(f\"The Charlson Comorbidity Index for {patient['name']} is: {index_patient}\")\n",
        "\n",
        "# Save results to Excel file\n",
        "wb = openpyxl.Workbook()\n",
        "ws = wb.active\n",
        "ws.title = \"Comorbidity Index Results\"\n",
        "ws.cell(row=1, column=1, value=\"Patient Name\")\n",
        "ws.cell(row=1, column=2, value=\"Comorbidity Index\")\n",
        "for row_num, result in enumerate(results, start=2):\n",
        "    ws.cell(row=row_num, column=1, value=result[\"name\"])\n",
        "    ws.cell(row=row_num, column=2, value=result[\"index\"])\n",
        "\n",
        "excel_file_name = \"comorbidity_results.xlsx\"\n",
        "wb.save(excel_file_name)\n",
        "print(f\"Results saved to '{excel_file_name}'\")\n",
        "\n"
      ]
    }
  ]
}